{
 "cells": [
  {
   "cell_type": "code",
   "execution_count": 43,
   "metadata": {},
   "outputs": [],
   "source": [
    "import os\n",
    "import time\n",
    "import twint \n",
    "import datetime\n",
    "import numpy as np\n",
    "import tweepy as tw\n",
    "import pandas as pd\n",
    "import seaborn as sns\n",
    "import yfinance as yf\n",
    "import configparser as cp\n",
    "from bs4 import BeautifulSoup\n",
    "import matplotlib.pyplot as plt\n",
    "from urllib.request import urlopen, Request"
   ]
  },
  {
   "cell_type": "markdown",
   "metadata": {},
   "source": [
    "# Downloading historical data"
   ]
  },
  {
   "cell_type": "code",
   "execution_count": 2,
   "metadata": {},
   "outputs": [
    {
     "data": {
      "text/html": [
       "<div>\n",
       "<style scoped>\n",
       "    .dataframe tbody tr th:only-of-type {\n",
       "        vertical-align: middle;\n",
       "    }\n",
       "\n",
       "    .dataframe tbody tr th {\n",
       "        vertical-align: top;\n",
       "    }\n",
       "\n",
       "    .dataframe thead th {\n",
       "        text-align: right;\n",
       "    }\n",
       "</style>\n",
       "<table border=\"1\" class=\"dataframe\">\n",
       "  <thead>\n",
       "    <tr style=\"text-align: right;\">\n",
       "      <th></th>\n",
       "      <th>Open</th>\n",
       "      <th>High</th>\n",
       "      <th>Low</th>\n",
       "      <th>Close</th>\n",
       "      <th>Volume</th>\n",
       "      <th>Dividends</th>\n",
       "      <th>Stock Splits</th>\n",
       "    </tr>\n",
       "    <tr>\n",
       "      <th>Date</th>\n",
       "      <th></th>\n",
       "      <th></th>\n",
       "      <th></th>\n",
       "      <th></th>\n",
       "      <th></th>\n",
       "      <th></th>\n",
       "      <th></th>\n",
       "    </tr>\n",
       "  </thead>\n",
       "  <tbody>\n",
       "    <tr>\n",
       "      <th>1995-12-25</th>\n",
       "      <td>53.472778</td>\n",
       "      <td>53.472778</td>\n",
       "      <td>53.472778</td>\n",
       "      <td>53.472778</td>\n",
       "      <td>0</td>\n",
       "      <td>0.0</td>\n",
       "      <td>0.0</td>\n",
       "    </tr>\n",
       "    <tr>\n",
       "      <th>1995-12-26</th>\n",
       "      <td>53.472778</td>\n",
       "      <td>53.472778</td>\n",
       "      <td>53.472778</td>\n",
       "      <td>53.472778</td>\n",
       "      <td>0</td>\n",
       "      <td>0.0</td>\n",
       "      <td>0.0</td>\n",
       "    </tr>\n",
       "    <tr>\n",
       "      <th>1995-12-27</th>\n",
       "      <td>53.472778</td>\n",
       "      <td>53.472778</td>\n",
       "      <td>53.472778</td>\n",
       "      <td>53.472778</td>\n",
       "      <td>0</td>\n",
       "      <td>0.0</td>\n",
       "      <td>0.0</td>\n",
       "    </tr>\n",
       "    <tr>\n",
       "      <th>1995-12-28</th>\n",
       "      <td>53.472778</td>\n",
       "      <td>53.472778</td>\n",
       "      <td>53.472778</td>\n",
       "      <td>53.472778</td>\n",
       "      <td>0</td>\n",
       "      <td>0.0</td>\n",
       "      <td>0.0</td>\n",
       "    </tr>\n",
       "    <tr>\n",
       "      <th>1995-12-29</th>\n",
       "      <td>53.472778</td>\n",
       "      <td>53.472778</td>\n",
       "      <td>53.472778</td>\n",
       "      <td>53.472778</td>\n",
       "      <td>0</td>\n",
       "      <td>0.0</td>\n",
       "      <td>0.0</td>\n",
       "    </tr>\n",
       "  </tbody>\n",
       "</table>\n",
       "</div>"
      ],
      "text/plain": [
       "                 Open       High        Low      Close  Volume  Dividends  \\\n",
       "Date                                                                        \n",
       "1995-12-25  53.472778  53.472778  53.472778  53.472778       0        0.0   \n",
       "1995-12-26  53.472778  53.472778  53.472778  53.472778       0        0.0   \n",
       "1995-12-27  53.472778  53.472778  53.472778  53.472778       0        0.0   \n",
       "1995-12-28  53.472778  53.472778  53.472778  53.472778       0        0.0   \n",
       "1995-12-29  53.472778  53.472778  53.472778  53.472778       0        0.0   \n",
       "\n",
       "            Stock Splits  \n",
       "Date                      \n",
       "1995-12-25           0.0  \n",
       "1995-12-26           0.0  \n",
       "1995-12-27           0.0  \n",
       "1995-12-28           0.0  \n",
       "1995-12-29           0.0  "
      ]
     },
     "execution_count": 2,
     "metadata": {},
     "output_type": "execute_result"
    }
   ],
   "source": [
    "stock = yf.Ticker(\"TATAMOTORS.NS\")\n",
    "df = stock.history(period=\"max\")\n",
    "df.head()"
   ]
  },
  {
   "cell_type": "code",
   "execution_count": 3,
   "metadata": {},
   "outputs": [
    {
     "data": {
      "text/html": [
       "<div>\n",
       "<style scoped>\n",
       "    .dataframe tbody tr th:only-of-type {\n",
       "        vertical-align: middle;\n",
       "    }\n",
       "\n",
       "    .dataframe tbody tr th {\n",
       "        vertical-align: top;\n",
       "    }\n",
       "\n",
       "    .dataframe thead th {\n",
       "        text-align: right;\n",
       "    }\n",
       "</style>\n",
       "<table border=\"1\" class=\"dataframe\">\n",
       "  <thead>\n",
       "    <tr style=\"text-align: right;\">\n",
       "      <th></th>\n",
       "      <th>Open</th>\n",
       "      <th>High</th>\n",
       "      <th>Low</th>\n",
       "      <th>Close</th>\n",
       "      <th>Volume</th>\n",
       "      <th>Dividends</th>\n",
       "      <th>Stock Splits</th>\n",
       "    </tr>\n",
       "    <tr>\n",
       "      <th>Date</th>\n",
       "      <th></th>\n",
       "      <th></th>\n",
       "      <th></th>\n",
       "      <th></th>\n",
       "      <th></th>\n",
       "      <th></th>\n",
       "      <th></th>\n",
       "    </tr>\n",
       "  </thead>\n",
       "  <tbody>\n",
       "    <tr>\n",
       "      <th>2023-02-17</th>\n",
       "      <td>436.000000</td>\n",
       "      <td>442.450012</td>\n",
       "      <td>436.000000</td>\n",
       "      <td>439.899994</td>\n",
       "      <td>6955445</td>\n",
       "      <td>0.0</td>\n",
       "      <td>0.0</td>\n",
       "    </tr>\n",
       "    <tr>\n",
       "      <th>2023-02-20</th>\n",
       "      <td>441.799988</td>\n",
       "      <td>445.299988</td>\n",
       "      <td>436.250000</td>\n",
       "      <td>443.000000</td>\n",
       "      <td>9717197</td>\n",
       "      <td>0.0</td>\n",
       "      <td>0.0</td>\n",
       "    </tr>\n",
       "    <tr>\n",
       "      <th>2023-02-21</th>\n",
       "      <td>445.200012</td>\n",
       "      <td>445.200012</td>\n",
       "      <td>435.250000</td>\n",
       "      <td>436.500000</td>\n",
       "      <td>8957930</td>\n",
       "      <td>0.0</td>\n",
       "      <td>0.0</td>\n",
       "    </tr>\n",
       "    <tr>\n",
       "      <th>2023-02-22</th>\n",
       "      <td>435.299988</td>\n",
       "      <td>435.850006</td>\n",
       "      <td>428.250000</td>\n",
       "      <td>429.450012</td>\n",
       "      <td>7209130</td>\n",
       "      <td>0.0</td>\n",
       "      <td>0.0</td>\n",
       "    </tr>\n",
       "    <tr>\n",
       "      <th>2023-02-23</th>\n",
       "      <td>428.649994</td>\n",
       "      <td>436.450012</td>\n",
       "      <td>427.200012</td>\n",
       "      <td>433.200012</td>\n",
       "      <td>9278237</td>\n",
       "      <td>0.0</td>\n",
       "      <td>0.0</td>\n",
       "    </tr>\n",
       "  </tbody>\n",
       "</table>\n",
       "</div>"
      ],
      "text/plain": [
       "                  Open        High         Low       Close   Volume  \\\n",
       "Date                                                                  \n",
       "2023-02-17  436.000000  442.450012  436.000000  439.899994  6955445   \n",
       "2023-02-20  441.799988  445.299988  436.250000  443.000000  9717197   \n",
       "2023-02-21  445.200012  445.200012  435.250000  436.500000  8957930   \n",
       "2023-02-22  435.299988  435.850006  428.250000  429.450012  7209130   \n",
       "2023-02-23  428.649994  436.450012  427.200012  433.200012  9278237   \n",
       "\n",
       "            Dividends  Stock Splits  \n",
       "Date                                 \n",
       "2023-02-17        0.0           0.0  \n",
       "2023-02-20        0.0           0.0  \n",
       "2023-02-21        0.0           0.0  \n",
       "2023-02-22        0.0           0.0  \n",
       "2023-02-23        0.0           0.0  "
      ]
     },
     "execution_count": 3,
     "metadata": {},
     "output_type": "execute_result"
    }
   ],
   "source": [
    "df.tail()"
   ]
  },
  {
   "cell_type": "code",
   "execution_count": 4,
   "metadata": {},
   "outputs": [
    {
     "data": {
      "text/plain": [
       "[<matplotlib.lines.Line2D at 0x239fa9faf70>]"
      ]
     },
     "execution_count": 4,
     "metadata": {},
     "output_type": "execute_result"
    },
    {
     "data": {
      "image/png": "[encoded data removed]",
      "text/plain": [
       "<Figure size 1152x648 with 1 Axes>"
      ]
     },
     "metadata": {
      "needs_background": "light"
     },
     "output_type": "display_data"
    }
   ],
   "source": [
    "plt.figure(figsize = (16, 9))\n",
    "plt.plot(df[\"Close\"])"
   ]
  },
  {
   "cell_type": "code",
   "execution_count": 5,
   "metadata": {},
   "outputs": [],
   "source": [
    "#Saving the historical data for tata motors\n",
    "df.to_csv(\"../data/TATAMOTORS.csv\")"
   ]
  },
  {
   "cell_type": "markdown",
   "metadata": {},
   "source": [
    "# Downloading sentiment data"
   ]
  },
  {
   "cell_type": "code",
   "execution_count": 4,
   "metadata": {},
   "outputs": [],
   "source": [
    "config = cp.RawConfigParser()\n",
    "config.read(filenames = '/path/twitter.txt')\n",
    "\n",
    "# Path: notebooks\\data-collection.ipynb\n",
    "config.read(\"../data/twitter.ini\")\n",
    "API_KEY = config.get(\"twitter\", \"API_KEY\")\n",
    "API_SECRET = config.get(\"twitter\", \"API_SECRET_KEY\")\n",
    "ACCESS_TOKEN = config.get(\"twitter\", \"ACCESS_TOKEN\")\n",
    "ACCESS_TOKEN_SECRET = config.get(\"twitter\", \"ACCESS_TOKEN_SECRET\")"
   ]
  },
  {
   "cell_type": "code",
   "execution_count": 5,
   "metadata": {},
   "outputs": [],
   "source": [
    "auth = tw.OAuthHandler(API_KEY, API_SECRET) \n",
    "auth.set_access_token(ACCESS_TOKEN, ACCESS_TOKEN_SECRET) \n",
    "api = tw.API(auth,wait_on_rate_limit=True)"
   ]
  },
  {
   "cell_type": "code",
   "execution_count": 54,
   "metadata": {},
   "outputs": [
    {
     "data": {
      "text/plain": [
       "datetime.date(1995, 12, 25)"
      ]
     },
     "execution_count": 54,
     "metadata": {},
     "output_type": "execute_result"
    }
   ],
   "source": []
  },
  {
   "cell_type": "code",
   "execution_count": 87,
   "metadata": {},
   "outputs": [],
   "source": [
    "def get_tweets(hashtag_phrase):\n",
    "    format_hashtag = '#'+hashtag_phrase\n",
    "    start_date = datetime.date.today() - datetime.timedelta(days=6)\n",
    "    end_date = datetime.date.today()\n",
    "    consumer_key = API_KEY\n",
    "    consumer_secret = API_SECRET\n",
    "    access_token = ACCESS_TOKEN\n",
    "    access_token_secret = ACCESS_TOKEN_SECRET\n",
    "\n",
    "    auth = tw.OAuthHandler(consumer_key,\n",
    "                                consumer_secret)\n",
    "    auth.set_access_token(access_token,access_token_secret)\n",
    "    api = tw.API(auth)\n",
    "    twitter_posts = pd.DataFrame(columns=['timestamp', 'tweet_text',\n",
    "                                            'followers_count'])\n",
    "    timestamp=[]\n",
    "    tweets=[]\n",
    "    follow_count=[]\n",
    "    for tweet in tw.Cursor(api.search_tweets, q=format_hashtag+' - filter:retweets', lang=\"en\", tweet_mode='extended').items():\n",
    "        timestamp.append(tweet.created_at)\n",
    "        tweets.append(tweet.full_text.replace('\\n',' ').encode('utf-8'))\n",
    "        follow_count.append(tweet.user.followers_count)\n",
    "        twitter_posts['timestamp'] = tweet.created_at\n",
    "        twitter_posts['tweet_text']= tweet.full_text.replace('\\n',' ').encode('utf-8')\n",
    "        twitter_posts['followers_count']= tweet.user.followers_count\n",
    "        twitter_posts['tweet_text']=twitter_posts['tweet_text'].str.decode(\"utf-8\")\n",
    "        # twitter_posts['scaled_followers_count']=twitter_posts['followers_count']/twitter_posts['followers_count'].max()\n",
    "        # twitter_posts['compound'] = twitter_posts['compound']*(twitter_posts['scaled_followers_count']+1)\n",
    "        twitter_posts.to_csv('../data/twitter-data/' + hashtag_phrase + '_' + (datetime.date.today().strftime('%Y-%m-%d')) + '.csv')\n",
    "\n",
    "    return twitter_posts"
   ]
  },
  {
   "cell_type": "code",
   "execution_count": 88,
   "metadata": {},
   "outputs": [],
   "source": [
    "def get_news(ticker_code):\n",
    "    # 1. Define URL:\n",
    "    finwiz_url = 'https://finviz.com/quote.ashx?t='\n",
    "    # 2. Requesting data:\n",
    "    news_tables = {}\n",
    "    tickers = [ticker_code]\n",
    "    for ticker in tickers:\n",
    "        url = finwiz_url + ticker\n",
    "        req = Request(url=url,headers={'user-agent': 'my-app/0.0.1'})\n",
    "        response = urlopen(req)\n",
    "        html = BeautifulSoup(response)\n",
    "        news_table = html.find(id='news-table')\n",
    "        news_tables[ticker] = news_table\n",
    "    #3. Parsing news:\n",
    "    parsed_news = []\n",
    "    for file_name, news_table in news_tables.items():\n",
    "        for x in news_table.findAll('tr'):\n",
    "            text = x.a.get_text()\n",
    "            date_scrape = x.td.text.split()\n",
    "            if len(date_scrape) == 1:\n",
    "                time = date_scrape[0]\n",
    "                date = date_scrape[0]\n",
    "                time = date_scrape[1]\n",
    "            ticker = file_name.split('_')[0]\n",
    "            parsed_news.append([ticker, date, time, text])\n",
    "    parsed_news.to_csv('PATH' + ticker + '_data_' + (datetime.date.today().strftime('%Y-%m-%d-%H')) + '.csv')"
   ]
  },
  {
   "cell_type": "code",
   "execution_count": 89,
   "metadata": {},
   "outputs": [
    {
     "data": {
      "text/html": [
       "<div>\n",
       "<style scoped>\n",
       "    .dataframe tbody tr th:only-of-type {\n",
       "        vertical-align: middle;\n",
       "    }\n",
       "\n",
       "    .dataframe tbody tr th {\n",
       "        vertical-align: top;\n",
       "    }\n",
       "\n",
       "    .dataframe thead th {\n",
       "        text-align: right;\n",
       "    }\n",
       "</style>\n",
       "<table border=\"1\" class=\"dataframe\">\n",
       "  <thead>\n",
       "    <tr style=\"text-align: right;\">\n",
       "      <th></th>\n",
       "      <th>timestamp</th>\n",
       "      <th>tweet_text</th>\n",
       "      <th>followers_count</th>\n",
       "    </tr>\n",
       "  </thead>\n",
       "  <tbody>\n",
       "  </tbody>\n",
       "</table>\n",
       "</div>"
      ],
      "text/plain": [
       "Empty DataFrame\n",
       "Columns: [timestamp, tweet_text, followers_count]\n",
       "Index: []"
      ]
     },
     "execution_count": 89,
     "metadata": {},
     "output_type": "execute_result"
    }
   ],
   "source": [
    "get_tweets(\"TataMotors\")"
   ]
  },
  {
   "cell_type": "code",
   "execution_count": null,
   "metadata": {},
   "outputs": [],
   "source": []
  }
 ],
 "metadata": {
  "kernelspec": {
   "display_name": "Python 3.9.4 64-bit",
   "language": "python",
   "name": "python3"
  },
  "language_info": {
   "codemirror_mode": {
    "name": "ipython",
    "version": 3
   },
   "file_extension": ".py",
   "mimetype": "text/x-python",
   "name": "python",
   "nbconvert_exporter": "python",
   "pygments_lexer": "ipython3",
   "version": "3.9.4"
  },
  "orig_nbformat": 4,
  "vscode": {
   "interpreter": {
    "hash": "c081257499a92776a7ff5343ee4d85420a7950a6ae97b0cb2aee7a7ddd41b7f2"
   }
  }
 },
 "nbformat": 4,
 "nbformat_minor": 2
}
